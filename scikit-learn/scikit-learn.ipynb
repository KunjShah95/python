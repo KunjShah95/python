{
 "cells": [
  {
   "cell_type": "markdown",
   "id": "virtual-spirituality",
   "metadata": {},
   "source": [
    "Make sure you use the right version number."
   ]
  },
  {
   "cell_type": "code",
   "execution_count": null,
   "id": "agricultural-income",
   "metadata": {},
   "outputs": [],
   "source": [
    "%pip install --upgrade scikit-learn==1.6.1"
   ]
  },
  {
   "cell_type": "markdown",
   "id": "hawaiian-overall",
   "metadata": {},
   "source": [
    "Once installed, we can load the data."
   ]
  },
  {
   "cell_type": "code",
   "execution_count": null,
   "id": "greatest-toilet",
   "metadata": {},
   "outputs": [],
   "source": [
    "from sklearn.datasets import fetch_california_housing\n",
    "X, y = fetch_california_housing(return_X_y=True)"
   ]
  },
  {
   "cell_type": "markdown",
   "id": "cutting-marathon",
   "metadata": {},
   "source": [
    "Next, we can apply models! "
   ]
  },
  {
   "cell_type": "code",
   "execution_count": null,
   "id": "vulnerable-adoption",
   "metadata": {},
   "outputs": [],
   "source": [
    "from sklearn.neighbors import KNeighborsRegressor\n",
    "from sklearn.linear_model import LinearRegression\n",
    "\n",
    "from sklearn.datasets import fetch_california_housing\n",
    "X, y = fetch_california_housing(return_X_y=True)\n",
    "\n",
    "mod = LinearRegression()\n",
    "mod.fit(X, y)\n",
    "mod.predict(X)[:3]"
   ]
  },
  {
   "cell_type": "code",
   "execution_count": null,
   "id": "indonesian-context",
   "metadata": {},
   "outputs": [],
   "source": [
    "from sklearn.datasets import fetch_california_housing\n",
    "from sklearn.model_selection import train_test_split\n",
    "from sklearn.neighbors import KNeighborsRegressor\n",
    "\n",
    "# Fetch the California housing dataset\n",
    "data = fetch_california_housing()\n",
    "X = data.data\n",
    "y = data.target\n",
    "\n",
    "# Split the data into training and testing sets\n",
    "X_train, X_test, y_train, y_test = train_test_split(X, y, random_state=0)\n",
    "\n",
    "# Create and train the model\n",
    "mod = KNeighborsRegressor()\n",
    "mod.fit(X_train, y_train)\n",
    "\n",
    "# Make predictions\n",
    "predictions = mod.predict(X_test)[:3]\n",
    "predictions"
   ]
  },
  {
   "cell_type": "markdown",
   "id": "beautiful-burns",
   "metadata": {},
   "source": [
    "Maybe we should inspect the results."
   ]
  },
  {
   "cell_type": "code",
   "execution_count": null,
   "id": "ceramic-static",
   "metadata": {},
   "outputs": [],
   "source": [
    "from sklearn.neighbors import KNeighborsRegressor\n",
    "from sklearn.datasets import fetch_california_housing\n",
    "import matplotlib.pylab as plt\n",
    "\n",
    "X, y = fetch_california_housing(return_X_y=True)\n",
    "\n",
    "mod = KNeighborsRegressor().fit(X, y)\n",
    "pred = mod.predict(X)\n",
    "plt.scatter(pred, y)"
   ]
  },
  {
   "cell_type": "markdown",
   "id": "undefined-horizon",
   "metadata": {},
   "source": [
    "Let's put everything into a pipeline."
   ]
  },
  {
   "cell_type": "code",
   "execution_count": null,
   "id": "flying-composite",
   "metadata": {},
   "outputs": [],
   "source": [
    "from sklearn.neighbors import KNeighborsRegressor\n",
    "from sklearn.preprocessing import StandardScaler\n",
    "from sklearn.datasets import fetch_california_housing\n",
    "from sklearn.pipeline import Pipeline\n",
    "import matplotlib.pylab as plt\n",
    "\n",
    "X, y = fetch_california_housing(return_X_y=True)\n",
    "\n",
    "pipe = Pipeline([\n",
    "    (\"scale\", StandardScaler()),\n",
    "    (\"model\", KNeighborsRegressor())\n",
    "])\n",
    "pred = pipe.fit(X, y).predict(X)\n",
    "plt.scatter(pred, y)"
   ]
  },
  {
   "cell_type": "markdown",
   "id": "french-inquiry",
   "metadata": {},
   "source": [
    "Let's also apply some settings!"
   ]
  },
  {
   "cell_type": "code",
   "execution_count": null,
   "id": "outstanding-judgment",
   "metadata": {},
   "outputs": [],
   "source": [
    "from sklearn.neighbors import KNeighborsRegressor\n",
    "from sklearn.preprocessing import StandardScaler\n",
    "from sklearn.datasets import fetch_california_housing\n",
    "from sklearn.pipeline import Pipeline\n",
    "import matplotlib.pylab as plt\n",
    "\n",
    "X, y = fetch_california_housing(return_X_y=True)\n",
    "\n",
    "# If n_neighbors = 1, we're totally cheating with the chart below.\n",
    "pipe = Pipeline([\n",
    "    (\"scale\", StandardScaler()),\n",
    "    (\"model\", KNeighborsRegressor(n_neighbors=1))\n",
    "])\n",
    "pred = pipe.fit(X, y).predict(X)\n",
    "plt.scatter(pred, y)"
   ]
  },
  {
   "cell_type": "markdown",
   "id": "paperback-banks",
   "metadata": {},
   "source": [
    "Let's now use a gridsearch!"
   ]
  },
  {
   "cell_type": "code",
   "execution_count": null,
   "id": "sealed-abuse",
   "metadata": {},
   "outputs": [],
   "source": [
    "from sklearn.datasets import fetch_california_housing\n",
    "from sklearn.neighbors import KNeighborsRegressor\n",
    "from sklearn.preprocessing import StandardScaler\n",
    "from sklearn.pipeline import Pipeline\n",
    "from sklearn.model_selection import GridSearchCV\n",
    "import pandas as pd\n",
    "\n",
    "X, y = fetch_california_housing(return_X_y=True)\n",
    "\n",
    "pipe = Pipeline([\n",
    "    (\"scale\", StandardScaler()),\n",
    "    (\"model\", KNeighborsRegressor())\n",
    "])\n",
    "\n",
    "mod = GridSearchCV(estimator=pipe,\n",
    "                 param_grid={\n",
    "                   'model__n_neighbors': [1, 2, 3, 4, 5, 6, 7, 8, 9, 10]\n",
    "                 },\n",
    "                 cv=3)\n",
    "mod.fit(X, y);"
   ]
  },
  {
   "cell_type": "code",
   "execution_count": null,
   "id": "scheduled-ranking",
   "metadata": {},
   "outputs": [],
   "source": [
    "pd.DataFrame(mod.cv_results_)"
   ]
  },
  {
   "cell_type": "markdown",
   "id": "increased-salem",
   "metadata": {},
   "source": [
    "Finally, lets remember that we should look at the data."
   ]
  },
  {
   "cell_type": "code",
   "execution_count": null,
   "id": "hazardous-income",
   "metadata": {},
   "outputs": [],
   "source": [
    "print(fetch_california_housing().DESCR)"
   ]
  }
 ],
 "metadata": {
  "kernelspec": {
   "display_name": ".venv",
   "language": "python",
   "name": "python3"
  },
  "language_info": {
   "codemirror_mode": {
    "name": "ipython",
    "version": 3
   },
   "file_extension": ".py",
   "mimetype": "text/x-python",
   "name": "python",
   "nbconvert_exporter": "python",
   "pygments_lexer": "ipython3",
   "version": "3.13.3"
  }
 },
 "nbformat": 4,
 "nbformat_minor": 5
}
